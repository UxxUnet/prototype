{
 "cells": [
  {
   "cell_type": "markdown",
   "id": "79e077ab-63ee-473f-9a93-e5e2e5b4d17a",
   "metadata": {
    "kernel": "R"
   },
   "source": [
    "# Ts/Tv ratio extraction from stats_bcftools files"
   ]
  },
  {
   "cell_type": "markdown",
   "id": "7725aea2-60f3-42a5-b235-e0093bcf1b65",
   "metadata": {
    "kernel": "SoS"
   },
   "source": [
    "### About Ts/Tv ratio"
   ]
  },
  {
   "cell_type": "markdown",
   "id": "42906881-b2b1-4964-ac32-374ff2f001af",
   "metadata": {
    "kernel": "SoS"
   },
   "source": [
    "There are six types of base changes between ATCG. Transitions are defined as changes within Purine or within Pyrimidine. Transversions are defined as changes between Purine and Pyrimidine.\n",
    "\n",
    "Two of them are transitions: A<->G and C<->T \n",
    "\n",
    "The other four types are transversions: A<->C, A<->T, G<->C, and G<->T \n",
    "\n",
    "If the changes were completely random, you would expect to see twice as many transversions – ts:tv=0.5. \n",
    "\n",
    "> For human-exome sequencing data, the Ti/Tv ratio is generally around 3.0, and about 2.0 outside of exome regions [(Bainbridge et al., 2011)](https://doi.org/10.1186/gb-2011-12-7-r68). \n",
    "\n",
    "Also, this number is correlated with GC content. In high-GC regions, the ts/tv ratio tends to be higher."
   ]
  },
  {
   "cell_type": "markdown",
   "id": "412877ff-6b93-41d3-842d-dc903bdbea3a",
   "metadata": {
    "kernel": "SoS"
   },
   "source": [
    "Reference:\n",
    "\n",
    "https://bioinformatics.stackexchange.com/questions/4362/why-ti-tv-ratio\n",
    "\n",
    "[Wang et al, Bioinformatics, 31 (3), 2015](https://doi.org/10.1093/bioinformatics/btu668)"
   ]
  },
  {
   "cell_type": "markdown",
   "id": "b57f27f9-c45e-4aff-b40a-fc1f0fd9f455",
   "metadata": {
    "kernel": "SoS"
   },
   "source": [
    "### Ts/Tv ratio extraction"
   ]
  },
  {
   "cell_type": "markdown",
   "id": "3ccad93c-5321-4380-8989-e1734075596c",
   "metadata": {
    "kernel": "SoS"
   },
   "source": [
    "I found a written R function manipulating the stats_bcftools files and then modified a little  based on his code.\n",
    "\n",
    "The original author: Per Unneberg\n",
    "\n",
    "The link: https://github.com/percyfal/manticore/blob/develop/R/bcftools.R"
   ]
  },
  {
   "cell_type": "code",
   "execution_count": 78,
   "id": "efffe8e9-9e59-464c-849b-0ed5f07e9a98",
   "metadata": {
    "kernel": "R",
    "tags": []
   },
   "outputs": [
    {
     "data": {
      "text/html": [
       "<style>\n",
       ".list-inline {list-style: none; margin:0; padding: 0}\n",
       ".list-inline>li {display: inline-block}\n",
       ".list-inline>li:not(:last-child)::after {content: \"\\00b7\"; padding: 0 .5ex}\n",
       "</style>\n",
       "<ol class=list-inline><li>200643</li><li>13</li></ol>\n"
      ],
      "text/latex": [
       "\\begin{enumerate*}\n",
       "\\item 200643\n",
       "\\item 13\n",
       "\\end{enumerate*}\n"
      ],
      "text/markdown": [
       "1. 200643\n",
       "2. 13\n",
       "\n",
       "\n"
      ],
      "text/plain": [
       "[1] 200643     13"
      ]
     },
     "metadata": {},
     "output_type": "display_data"
    },
    {
     "data": {
      "text/html": [
       "<table class=\"dataframe\">\n",
       "<caption>A data.frame: 6 × 13</caption>\n",
       "<thead>\n",
       "\t<tr><th></th><th scope=col>id</th><th scope=col>sample</th><th scope=col>nRefHom</th><th scope=col>nNonRefHom</th><th scope=col>nHets</th><th scope=col>nTransitions</th><th scope=col>nTransversions</th><th scope=col>nIndels</th><th scope=col>average.depth</th><th scope=col>nSingletons</th><th scope=col>nHapRef</th><th scope=col>nHapAlt</th><th scope=col>nMissing</th></tr>\n",
       "\t<tr><th></th><th scope=col>&lt;int&gt;</th><th scope=col>&lt;int&gt;</th><th scope=col>&lt;int&gt;</th><th scope=col>&lt;int&gt;</th><th scope=col>&lt;int&gt;</th><th scope=col>&lt;int&gt;</th><th scope=col>&lt;int&gt;</th><th scope=col>&lt;int&gt;</th><th scope=col>&lt;dbl&gt;</th><th scope=col>&lt;int&gt;</th><th scope=col>&lt;int&gt;</th><th scope=col>&lt;int&gt;</th><th scope=col>&lt;int&gt;</th></tr>\n",
       "</thead>\n",
       "<tbody>\n",
       "\t<tr><th scope=row>1</th><td>0</td><td>1434748</td><td>13460</td><td>16</td><td>39</td><td>43</td><td>12</td><td>0</td><td>19.4</td><td>0</td><td>0</td><td>0</td><td> 69</td></tr>\n",
       "\t<tr><th scope=row>2</th><td>0</td><td>5523981</td><td>13522</td><td>15</td><td>47</td><td>49</td><td>13</td><td>0</td><td>25.0</td><td>0</td><td>0</td><td>0</td><td>  0</td></tr>\n",
       "\t<tr><th scope=row>3</th><td>0</td><td>5023838</td><td>13154</td><td>21</td><td>24</td><td>36</td><td> 9</td><td>0</td><td>19.0</td><td>0</td><td>0</td><td>0</td><td>385</td></tr>\n",
       "\t<tr><th scope=row>4</th><td>0</td><td>4023729</td><td>13510</td><td>15</td><td>41</td><td>42</td><td>14</td><td>0</td><td>21.1</td><td>0</td><td>0</td><td>0</td><td> 18</td></tr>\n",
       "\t<tr><th scope=row>5</th><td>0</td><td>4442146</td><td>13503</td><td>18</td><td>32</td><td>36</td><td>14</td><td>0</td><td>20.4</td><td>0</td><td>0</td><td>0</td><td> 31</td></tr>\n",
       "\t<tr><th scope=row>6</th><td>0</td><td>5654789</td><td>13506</td><td>25</td><td>25</td><td>37</td><td>13</td><td>0</td><td>20.3</td><td>0</td><td>0</td><td>0</td><td> 28</td></tr>\n",
       "</tbody>\n",
       "</table>\n"
      ],
      "text/latex": [
       "A data.frame: 6 × 13\n",
       "\\begin{tabular}{r|lllllllllllll}\n",
       "  & id & sample & nRefHom & nNonRefHom & nHets & nTransitions & nTransversions & nIndels & average.depth & nSingletons & nHapRef & nHapAlt & nMissing\\\\\n",
       "  & <int> & <int> & <int> & <int> & <int> & <int> & <int> & <int> & <dbl> & <int> & <int> & <int> & <int>\\\\\n",
       "\\hline\n",
       "\t1 & 0 & 1434748 & 13460 & 16 & 39 & 43 & 12 & 0 & 19.4 & 0 & 0 & 0 &  69\\\\\n",
       "\t2 & 0 & 5523981 & 13522 & 15 & 47 & 49 & 13 & 0 & 25.0 & 0 & 0 & 0 &   0\\\\\n",
       "\t3 & 0 & 5023838 & 13154 & 21 & 24 & 36 &  9 & 0 & 19.0 & 0 & 0 & 0 & 385\\\\\n",
       "\t4 & 0 & 4023729 & 13510 & 15 & 41 & 42 & 14 & 0 & 21.1 & 0 & 0 & 0 &  18\\\\\n",
       "\t5 & 0 & 4442146 & 13503 & 18 & 32 & 36 & 14 & 0 & 20.4 & 0 & 0 & 0 &  31\\\\\n",
       "\t6 & 0 & 5654789 & 13506 & 25 & 25 & 37 & 13 & 0 & 20.3 & 0 & 0 & 0 &  28\\\\\n",
       "\\end{tabular}\n"
      ],
      "text/markdown": [
       "\n",
       "A data.frame: 6 × 13\n",
       "\n",
       "| <!--/--> | id &lt;int&gt; | sample &lt;int&gt; | nRefHom &lt;int&gt; | nNonRefHom &lt;int&gt; | nHets &lt;int&gt; | nTransitions &lt;int&gt; | nTransversions &lt;int&gt; | nIndels &lt;int&gt; | average.depth &lt;dbl&gt; | nSingletons &lt;int&gt; | nHapRef &lt;int&gt; | nHapAlt &lt;int&gt; | nMissing &lt;int&gt; |\n",
       "|---|---|---|---|---|---|---|---|---|---|---|---|---|---|\n",
       "| 1 | 0 | 1434748 | 13460 | 16 | 39 | 43 | 12 | 0 | 19.4 | 0 | 0 | 0 |  69 |\n",
       "| 2 | 0 | 5523981 | 13522 | 15 | 47 | 49 | 13 | 0 | 25.0 | 0 | 0 | 0 |   0 |\n",
       "| 3 | 0 | 5023838 | 13154 | 21 | 24 | 36 |  9 | 0 | 19.0 | 0 | 0 | 0 | 385 |\n",
       "| 4 | 0 | 4023729 | 13510 | 15 | 41 | 42 | 14 | 0 | 21.1 | 0 | 0 | 0 |  18 |\n",
       "| 5 | 0 | 4442146 | 13503 | 18 | 32 | 36 | 14 | 0 | 20.4 | 0 | 0 | 0 |  31 |\n",
       "| 6 | 0 | 5654789 | 13506 | 25 | 25 | 37 | 13 | 0 | 20.3 | 0 | 0 | 0 |  28 |\n",
       "\n"
      ],
      "text/plain": [
       "  id sample  nRefHom nNonRefHom nHets nTransitions nTransversions nIndels\n",
       "1 0  1434748 13460   16         39    43           12             0      \n",
       "2 0  5523981 13522   15         47    49           13             0      \n",
       "3 0  5023838 13154   21         24    36            9             0      \n",
       "4 0  4023729 13510   15         41    42           14             0      \n",
       "5 0  4442146 13503   18         32    36           14             0      \n",
       "6 0  5654789 13506   25         25    37           13             0      \n",
       "  average.depth nSingletons nHapRef nHapAlt nMissing\n",
       "1 19.4          0           0       0        69     \n",
       "2 25.0          0           0       0         0     \n",
       "3 19.0          0           0       0       385     \n",
       "4 21.1          0           0       0        18     \n",
       "5 20.4          0           0       0        31     \n",
       "6 20.3          0           0       0        28     "
      ]
     },
     "metadata": {},
     "output_type": "display_data"
    }
   ],
   "source": [
    "source(\"bcftoolsstats.R\")\n",
    "data<-read.bcftools.stats(\"~/UKBiobank/vcf/ukb23156_c17_b4_v1.biallelic.filtered.stats_bcftools\", label = NULL)\n",
    "# c(\"ID\", \"SN\", \"TSTV\", \"SiS\", \"AF\", \"QUAL\", \"IDD\", \"ST\", \"DP\",\"PSC\", \"PSI\",\"HWE\",\"label\")\n",
    "psc<-data$PSC\n",
    "dim(psc)\n",
    "head(psc)"
   ]
  },
  {
   "cell_type": "code",
   "execution_count": 79,
   "id": "ea03bb3f-a3a5-4211-89dc-0e65dd116de6",
   "metadata": {
    "kernel": "R"
   },
   "outputs": [
    {
     "data": {
      "text/html": [
       "<table class=\"dataframe\">\n",
       "<caption>A data.frame: 6 × 5</caption>\n",
       "<thead>\n",
       "\t<tr><th></th><th scope=col>sample</th><th scope=col>nTransitions</th><th scope=col>nTransversions</th><th scope=col>sum</th><th scope=col>tstv</th></tr>\n",
       "\t<tr><th></th><th scope=col>&lt;int&gt;</th><th scope=col>&lt;int&gt;</th><th scope=col>&lt;int&gt;</th><th scope=col>&lt;dbl&gt;</th><th scope=col>&lt;dbl&gt;</th></tr>\n",
       "</thead>\n",
       "<tbody>\n",
       "\t<tr><th scope=row>1</th><td>1434748</td><td>14</td><td>3</td><td>1434765</td><td>4.666667</td></tr>\n",
       "\t<tr><th scope=row>2</th><td>5523981</td><td>16</td><td>5</td><td>5524002</td><td>3.200000</td></tr>\n",
       "\t<tr><th scope=row>3</th><td>5023838</td><td>16</td><td>3</td><td>5023857</td><td>5.333333</td></tr>\n",
       "\t<tr><th scope=row>4</th><td>4023729</td><td>12</td><td>5</td><td>4023746</td><td>2.400000</td></tr>\n",
       "\t<tr><th scope=row>5</th><td>4442146</td><td>23</td><td>8</td><td>4442177</td><td>2.875000</td></tr>\n",
       "\t<tr><th scope=row>6</th><td>5654789</td><td>22</td><td>5</td><td>5654816</td><td>4.400000</td></tr>\n",
       "</tbody>\n",
       "</table>\n"
      ],
      "text/latex": [
       "A data.frame: 6 × 5\n",
       "\\begin{tabular}{r|lllll}\n",
       "  & sample & nTransitions & nTransversions & sum & tstv\\\\\n",
       "  & <int> & <int> & <int> & <dbl> & <dbl>\\\\\n",
       "\\hline\n",
       "\t1 & 1434748 & 14 & 3 & 1434765 & 4.666667\\\\\n",
       "\t2 & 5523981 & 16 & 5 & 5524002 & 3.200000\\\\\n",
       "\t3 & 5023838 & 16 & 3 & 5023857 & 5.333333\\\\\n",
       "\t4 & 4023729 & 12 & 5 & 4023746 & 2.400000\\\\\n",
       "\t5 & 4442146 & 23 & 8 & 4442177 & 2.875000\\\\\n",
       "\t6 & 5654789 & 22 & 5 & 5654816 & 4.400000\\\\\n",
       "\\end{tabular}\n"
      ],
      "text/markdown": [
       "\n",
       "A data.frame: 6 × 5\n",
       "\n",
       "| <!--/--> | sample &lt;int&gt; | nTransitions &lt;int&gt; | nTransversions &lt;int&gt; | sum &lt;dbl&gt; | tstv &lt;dbl&gt; |\n",
       "|---|---|---|---|---|---|\n",
       "| 1 | 1434748 | 14 | 3 | 1434765 | 4.666667 |\n",
       "| 2 | 5523981 | 16 | 5 | 5524002 | 3.200000 |\n",
       "| 3 | 5023838 | 16 | 3 | 5023857 | 5.333333 |\n",
       "| 4 | 4023729 | 12 | 5 | 4023746 | 2.400000 |\n",
       "| 5 | 4442146 | 23 | 8 | 4442177 | 2.875000 |\n",
       "| 6 | 5654789 | 22 | 5 | 5654816 | 4.400000 |\n",
       "\n"
      ],
      "text/plain": [
       "  sample  nTransitions nTransversions sum     tstv    \n",
       "1 1434748 14           3              1434765 4.666667\n",
       "2 5523981 16           5              5524002 3.200000\n",
       "3 5023838 16           3              5023857 5.333333\n",
       "4 4023729 12           5              4023746 2.400000\n",
       "5 4442146 23           8              4442177 2.875000\n",
       "6 5654789 22           5              5654816 4.400000"
      ]
     },
     "metadata": {},
     "output_type": "display_data"
    }
   ],
   "source": [
    "read.bcftools.tstv<-function(stats_bcftools_file){\n",
    "    data<-read.bcftools.stats(stats_bcftools_file, label = NULL)\n",
    "    psc<-data$PSC\n",
    "    pscm<-psc[,c(2,6,7)]\n",
    "    pscm$sum<-rowSums(pscm)\n",
    "    pscm$tstv<-pscm$nTransitions/pscm$nTransversions\n",
    "    pscm\n",
    "}\n",
    "pscm2<-read.bcftools.tstv(\"~/UKBiobank/vcf/ukb23156_c3_b14_v1.biallelic.filtered.stats_bcftools\")\n",
    "write.csv(pscm2$sample,\"~/UKBiobank/vcf/id.csv\",row.names=FALSE)\n",
    "head(pscm2)"
   ]
  },
  {
   "cell_type": "markdown",
   "id": "1670cad1-1d4a-43ec-a183-367005dcb59e",
   "metadata": {
    "kernel": "R"
   },
   "source": [
    "### Some extra plots from the function"
   ]
  },
  {
   "cell_type": "code",
   "execution_count": 80,
   "id": "423be57c-91cf-4cd7-843f-d03ecb7be286",
   "metadata": {
    "kernel": "R"
   },
   "outputs": [
    {
     "name": "stderr",
     "output_type": "stream",
     "text": [
      "Producing 8 plots\n",
      "\n"
     ]
    },
    {
     "data": {
      "image/png": "[encoded data removed]",
      "text/plain": [
       "plot without title"
      ]
     },
     "metadata": {
      "image/png": {
       "height": 420,
       "width": 420
      }
     },
     "output_type": "display_data"
    }
   ],
   "source": [
    "library(tidyr)\n",
    "library(ggplot2)\n",
    "library(gridExtra)\n",
    "library(grid)\n",
    "plot<-gplot.bcftools.stats(data)\n",
    "grid.draw(plot)"
   ]
  },
  {
   "cell_type": "code",
   "execution_count": null,
   "id": "ffcc2770-dcc0-4601-a6a7-3804dfa53990",
   "metadata": {
    "kernel": "R"
   },
   "outputs": [],
   "source": []
  },
  {
   "cell_type": "markdown",
   "id": "e903db37-79be-4198-a4a7-e33aef4543b2",
   "metadata": {
    "kernel": "R"
   },
   "source": [
    "### Analysis of the extracted TsTv data"
   ]
  },
  {
   "cell_type": "code",
   "execution_count": 2,
   "id": "b608db1e-e900-437a-a593-d92ed2cbdd5e",
   "metadata": {
    "kernel": "R"
   },
   "outputs": [],
   "source": [
    "library(data.table)\n",
    "data<-fread(\"~/UKBiobank/vcf/ukb23156.biallelic.merged.tstv.csv\")\n",
    "class(data)<-'data.frame'"
   ]
  },
  {
   "cell_type": "code",
   "execution_count": 7,
   "id": "e80021f3-29a2-424f-9128-39a319735b06",
   "metadata": {
    "kernel": "R"
   },
   "outputs": [
    {
     "data": {
      "text/html": [
       "<style>\n",
       ".list-inline {list-style: none; margin:0; padding: 0}\n",
       ".list-inline>li {display: inline-block}\n",
       ".list-inline>li:not(:last-child)::after {content: \"\\00b7\"; padding: 0 .5ex}\n",
       "</style>\n",
       "<ol class=list-inline><li>200643</li><li>952</li></ol>\n"
      ],
      "text/latex": [
       "\\begin{enumerate*}\n",
       "\\item 200643\n",
       "\\item 952\n",
       "\\end{enumerate*}\n"
      ],
      "text/markdown": [
       "1. 200643\n",
       "2. 952\n",
       "\n",
       "\n"
      ],
      "text/plain": [
       "[1] 200643    952"
      ]
     },
     "metadata": {},
     "output_type": "display_data"
    }
   ],
   "source": [
    "dim(data)"
   ]
  },
  {
   "cell_type": "code",
   "execution_count": 28,
   "id": "74fca4a3-0aa5-4575-872c-ce6586616055",
   "metadata": {
    "kernel": "R"
   },
   "outputs": [
    {
     "data": {
      "text/html": [
       "<table class=\"dataframe\">\n",
       "<caption>A data.frame: 6 × 952</caption>\n",
       "<thead>\n",
       "\t<tr><th></th><th scope=col>c9_b9</th><th scope=col>c9_b8</th><th scope=col>c9_b7</th><th scope=col>c9_b6</th><th scope=col>c9_b5</th><th scope=col>c9_b41</th><th scope=col>c9_b40</th><th scope=col>c9_b4</th><th scope=col>c9_b39</th><th scope=col>c9_b38</th><th scope=col>⋯</th><th scope=col>c1_b17</th><th scope=col>c1_b16</th><th scope=col>c1_b15</th><th scope=col>c1_b14</th><th scope=col>c1_b13</th><th scope=col>c1_b12</th><th scope=col>c1_b11</th><th scope=col>c1_b10</th><th scope=col>c1_b1</th><th scope=col>c1_b0</th></tr>\n",
       "\t<tr><th></th><th scope=col>&lt;dbl&gt;</th><th scope=col>&lt;dbl&gt;</th><th scope=col>&lt;dbl&gt;</th><th scope=col>&lt;dbl&gt;</th><th scope=col>&lt;dbl&gt;</th><th scope=col>&lt;dbl&gt;</th><th scope=col>&lt;dbl&gt;</th><th scope=col>&lt;dbl&gt;</th><th scope=col>&lt;dbl&gt;</th><th scope=col>&lt;dbl&gt;</th><th scope=col>⋯</th><th scope=col>&lt;dbl&gt;</th><th scope=col>&lt;dbl&gt;</th><th scope=col>&lt;dbl&gt;</th><th scope=col>&lt;dbl&gt;</th><th scope=col>&lt;dbl&gt;</th><th scope=col>&lt;dbl&gt;</th><th scope=col>&lt;dbl&gt;</th><th scope=col>&lt;dbl&gt;</th><th scope=col>&lt;dbl&gt;</th><th scope=col>&lt;dbl&gt;</th></tr>\n",
       "</thead>\n",
       "<tbody>\n",
       "\t<tr><th scope=row>1</th><td>5.666667</td><td>2.777778</td><td>5.000000</td><td>1.928571</td><td>1.375000</td><td>4.333333</td><td>6.333333</td><td>1.684211</td><td>5.333333</td><td>2.625000</td><td>⋯</td><td>4.600000</td><td>3.000000</td><td>4.000000</td><td>2.190476</td><td>5.375000</td><td>2.333333</td><td>2.571429</td><td>2.666667</td><td>Inf</td><td>5.000000</td></tr>\n",
       "\t<tr><th scope=row>2</th><td>5.600000</td><td>4.000000</td><td>6.000000</td><td>1.750000</td><td>3.200000</td><td>2.600000</td><td>3.555556</td><td>1.916667</td><td>6.375000</td><td>3.083333</td><td>⋯</td><td>3.625000</td><td>4.000000</td><td>3.625000</td><td>1.920000</td><td>5.625000</td><td>2.363636</td><td>2.727273</td><td>1.800000</td><td>Inf</td><td>3.625000</td></tr>\n",
       "\t<tr><th scope=row>3</th><td>3.375000</td><td>3.166667</td><td>2.545455</td><td>2.000000</td><td>2.125000</td><td>2.500000</td><td>5.500000</td><td>1.500000</td><td>5.714286</td><td>1.933333</td><td>⋯</td><td>8.500000</td><td>2.888889</td><td>5.571429</td><td>2.866667</td><td>4.888889</td><td>2.590909</td><td>2.454545</td><td>2.400000</td><td> 23</td><td>4.000000</td></tr>\n",
       "\t<tr><th scope=row>4</th><td>3.428571</td><td>3.600000</td><td>3.100000</td><td>2.625000</td><td>1.800000</td><td>3.250000</td><td>4.375000</td><td>1.230769</td><td>4.888889</td><td>2.285714</td><td>⋯</td><td>9.250000</td><td>5.888889</td><td>5.285714</td><td>3.846154</td><td>5.444444</td><td>3.833333</td><td>3.272727</td><td>1.666667</td><td> 10</td><td>5.500000</td></tr>\n",
       "\t<tr><th scope=row>5</th><td>2.700000</td><td>3.125000</td><td>3.375000</td><td>1.769231</td><td>2.142857</td><td>3.000000</td><td>6.000000</td><td>1.600000</td><td>5.444444</td><td>3.090909</td><td>⋯</td><td>4.222222</td><td>3.571429</td><td>4.714286</td><td>3.500000</td><td>7.500000</td><td>2.636364</td><td>3.222222</td><td>1.600000</td><td>  5</td><td>6.200000</td></tr>\n",
       "\t<tr><th scope=row>6</th><td>4.714286</td><td>2.250000</td><td>3.875000</td><td>2.583333</td><td>1.500000</td><td>1.777778</td><td>4.500000</td><td>1.285714</td><td>5.444444</td><td>3.333333</td><td>⋯</td><td>6.333333</td><td>3.052632</td><td>4.714286</td><td>2.272727</td><td>5.400000</td><td>2.666667</td><td>4.000000</td><td>2.400000</td><td>Inf</td><td>4.666667</td></tr>\n",
       "</tbody>\n",
       "</table>\n"
      ],
      "text/latex": [
       "A data.frame: 6 × 952\n",
       "\\begin{tabular}{r|lllllllllllllllllllll}\n",
       "  & c9\\_b9 & c9\\_b8 & c9\\_b7 & c9\\_b6 & c9\\_b5 & c9\\_b41 & c9\\_b40 & c9\\_b4 & c9\\_b39 & c9\\_b38 & ⋯ & c1\\_b17 & c1\\_b16 & c1\\_b15 & c1\\_b14 & c1\\_b13 & c1\\_b12 & c1\\_b11 & c1\\_b10 & c1\\_b1 & c1\\_b0\\\\\n",
       "  & <dbl> & <dbl> & <dbl> & <dbl> & <dbl> & <dbl> & <dbl> & <dbl> & <dbl> & <dbl> & ⋯ & <dbl> & <dbl> & <dbl> & <dbl> & <dbl> & <dbl> & <dbl> & <dbl> & <dbl> & <dbl>\\\\\n",
       "\\hline\n",
       "\t1 & 5.666667 & 2.777778 & 5.000000 & 1.928571 & 1.375000 & 4.333333 & 6.333333 & 1.684211 & 5.333333 & 2.625000 & ⋯ & 4.600000 & 3.000000 & 4.000000 & 2.190476 & 5.375000 & 2.333333 & 2.571429 & 2.666667 & Inf & 5.000000\\\\\n",
       "\t2 & 5.600000 & 4.000000 & 6.000000 & 1.750000 & 3.200000 & 2.600000 & 3.555556 & 1.916667 & 6.375000 & 3.083333 & ⋯ & 3.625000 & 4.000000 & 3.625000 & 1.920000 & 5.625000 & 2.363636 & 2.727273 & 1.800000 & Inf & 3.625000\\\\\n",
       "\t3 & 3.375000 & 3.166667 & 2.545455 & 2.000000 & 2.125000 & 2.500000 & 5.500000 & 1.500000 & 5.714286 & 1.933333 & ⋯ & 8.500000 & 2.888889 & 5.571429 & 2.866667 & 4.888889 & 2.590909 & 2.454545 & 2.400000 &  23 & 4.000000\\\\\n",
       "\t4 & 3.428571 & 3.600000 & 3.100000 & 2.625000 & 1.800000 & 3.250000 & 4.375000 & 1.230769 & 4.888889 & 2.285714 & ⋯ & 9.250000 & 5.888889 & 5.285714 & 3.846154 & 5.444444 & 3.833333 & 3.272727 & 1.666667 &  10 & 5.500000\\\\\n",
       "\t5 & 2.700000 & 3.125000 & 3.375000 & 1.769231 & 2.142857 & 3.000000 & 6.000000 & 1.600000 & 5.444444 & 3.090909 & ⋯ & 4.222222 & 3.571429 & 4.714286 & 3.500000 & 7.500000 & 2.636364 & 3.222222 & 1.600000 &   5 & 6.200000\\\\\n",
       "\t6 & 4.714286 & 2.250000 & 3.875000 & 2.583333 & 1.500000 & 1.777778 & 4.500000 & 1.285714 & 5.444444 & 3.333333 & ⋯ & 6.333333 & 3.052632 & 4.714286 & 2.272727 & 5.400000 & 2.666667 & 4.000000 & 2.400000 & Inf & 4.666667\\\\\n",
       "\\end{tabular}\n"
      ],
      "text/markdown": [
       "\n",
       "A data.frame: 6 × 952\n",
       "\n",
       "| <!--/--> | c9_b9 &lt;dbl&gt; | c9_b8 &lt;dbl&gt; | c9_b7 &lt;dbl&gt; | c9_b6 &lt;dbl&gt; | c9_b5 &lt;dbl&gt; | c9_b41 &lt;dbl&gt; | c9_b40 &lt;dbl&gt; | c9_b4 &lt;dbl&gt; | c9_b39 &lt;dbl&gt; | c9_b38 &lt;dbl&gt; | ⋯ ⋯ | c1_b17 &lt;dbl&gt; | c1_b16 &lt;dbl&gt; | c1_b15 &lt;dbl&gt; | c1_b14 &lt;dbl&gt; | c1_b13 &lt;dbl&gt; | c1_b12 &lt;dbl&gt; | c1_b11 &lt;dbl&gt; | c1_b10 &lt;dbl&gt; | c1_b1 &lt;dbl&gt; | c1_b0 &lt;dbl&gt; |\n",
       "|---|---|---|---|---|---|---|---|---|---|---|---|---|---|---|---|---|---|---|---|---|---|\n",
       "| 1 | 5.666667 | 2.777778 | 5.000000 | 1.928571 | 1.375000 | 4.333333 | 6.333333 | 1.684211 | 5.333333 | 2.625000 | ⋯ | 4.600000 | 3.000000 | 4.000000 | 2.190476 | 5.375000 | 2.333333 | 2.571429 | 2.666667 | Inf | 5.000000 |\n",
       "| 2 | 5.600000 | 4.000000 | 6.000000 | 1.750000 | 3.200000 | 2.600000 | 3.555556 | 1.916667 | 6.375000 | 3.083333 | ⋯ | 3.625000 | 4.000000 | 3.625000 | 1.920000 | 5.625000 | 2.363636 | 2.727273 | 1.800000 | Inf | 3.625000 |\n",
       "| 3 | 3.375000 | 3.166667 | 2.545455 | 2.000000 | 2.125000 | 2.500000 | 5.500000 | 1.500000 | 5.714286 | 1.933333 | ⋯ | 8.500000 | 2.888889 | 5.571429 | 2.866667 | 4.888889 | 2.590909 | 2.454545 | 2.400000 |  23 | 4.000000 |\n",
       "| 4 | 3.428571 | 3.600000 | 3.100000 | 2.625000 | 1.800000 | 3.250000 | 4.375000 | 1.230769 | 4.888889 | 2.285714 | ⋯ | 9.250000 | 5.888889 | 5.285714 | 3.846154 | 5.444444 | 3.833333 | 3.272727 | 1.666667 |  10 | 5.500000 |\n",
       "| 5 | 2.700000 | 3.125000 | 3.375000 | 1.769231 | 2.142857 | 3.000000 | 6.000000 | 1.600000 | 5.444444 | 3.090909 | ⋯ | 4.222222 | 3.571429 | 4.714286 | 3.500000 | 7.500000 | 2.636364 | 3.222222 | 1.600000 |   5 | 6.200000 |\n",
       "| 6 | 4.714286 | 2.250000 | 3.875000 | 2.583333 | 1.500000 | 1.777778 | 4.500000 | 1.285714 | 5.444444 | 3.333333 | ⋯ | 6.333333 | 3.052632 | 4.714286 | 2.272727 | 5.400000 | 2.666667 | 4.000000 | 2.400000 | Inf | 4.666667 |\n",
       "\n"
      ],
      "text/plain": [
       "  c9_b9    c9_b8    c9_b7    c9_b6    c9_b5    c9_b41   c9_b40   c9_b4   \n",
       "1 5.666667 2.777778 5.000000 1.928571 1.375000 4.333333 6.333333 1.684211\n",
       "2 5.600000 4.000000 6.000000 1.750000 3.200000 2.600000 3.555556 1.916667\n",
       "3 3.375000 3.166667 2.545455 2.000000 2.125000 2.500000 5.500000 1.500000\n",
       "4 3.428571 3.600000 3.100000 2.625000 1.800000 3.250000 4.375000 1.230769\n",
       "5 2.700000 3.125000 3.375000 1.769231 2.142857 3.000000 6.000000 1.600000\n",
       "6 4.714286 2.250000 3.875000 2.583333 1.500000 1.777778 4.500000 1.285714\n",
       "  c9_b39   c9_b38   ⋯ c1_b17   c1_b16   c1_b15   c1_b14   c1_b13   c1_b12  \n",
       "1 5.333333 2.625000 ⋯ 4.600000 3.000000 4.000000 2.190476 5.375000 2.333333\n",
       "2 6.375000 3.083333 ⋯ 3.625000 4.000000 3.625000 1.920000 5.625000 2.363636\n",
       "3 5.714286 1.933333 ⋯ 8.500000 2.888889 5.571429 2.866667 4.888889 2.590909\n",
       "4 4.888889 2.285714 ⋯ 9.250000 5.888889 5.285714 3.846154 5.444444 3.833333\n",
       "5 5.444444 3.090909 ⋯ 4.222222 3.571429 4.714286 3.500000 7.500000 2.636364\n",
       "6 5.444444 3.333333 ⋯ 6.333333 3.052632 4.714286 2.272727 5.400000 2.666667\n",
       "  c1_b11   c1_b10   c1_b1 c1_b0   \n",
       "1 2.571429 2.666667 Inf   5.000000\n",
       "2 2.727273 1.800000 Inf   3.625000\n",
       "3 2.454545 2.400000  23   4.000000\n",
       "4 3.272727 1.666667  10   5.500000\n",
       "5 3.222222 1.600000   5   6.200000\n",
       "6 4.000000 2.400000 Inf   4.666667"
      ]
     },
     "metadata": {},
     "output_type": "display_data"
    }
   ],
   "source": [
    "head(data)"
   ]
  },
  {
   "cell_type": "markdown",
   "id": "4bceb370-3579-4cd8-af80-bcc185756c0f",
   "metadata": {
    "kernel": "R"
   },
   "source": [
    "Evrey column is named after a chromosome block. Every row is a sample."
   ]
  },
  {
   "cell_type": "code",
   "execution_count": 6,
   "id": "ebc1a2ca-2df6-41e9-9c7c-8498f244ccae",
   "metadata": {
    "kernel": "R"
   },
   "outputs": [
    {
     "name": "stdout",
     "output_type": "stream",
     "text": [
      "Number of 0: 23244 \n",
      "Number of Inf and -Inf: 1349932 \n",
      "Number of NA: 51340 \n"
     ]
    }
   ],
   "source": [
    "cat(\"Number of 0:\",sum(data==0,na.rm=TRUE),\"\\n\")\n",
    "cat(\"Number of Inf and -Inf:\",sum(is.infinite(as.matrix(data))),\"\\n\")\n",
    "cat(\"Number of NA:\",sum(is.na(data)),\"\\n\")"
   ]
  },
  {
   "cell_type": "markdown",
   "id": "cb447c33-4667-4959-98b8-6a0ad818441c",
   "metadata": {
    "kernel": "R"
   },
   "source": [
    "#### Confirmation of zeros"
   ]
  },
  {
   "cell_type": "markdown",
   "id": "656caf91-b253-4dc3-bccb-63f6cdbbe4fb",
   "metadata": {
    "kernel": "R"
   },
   "source": [
    "For example, zero values can be found in the sample 2. Find the exact chromosome blocker which produces the 0 and check in the original data."
   ]
  },
  {
   "cell_type": "code",
   "execution_count": 40,
   "id": "5a3c770a-7818-455b-a96d-412e06c5f68d",
   "metadata": {
    "kernel": "R"
   },
   "outputs": [
    {
     "data": {
      "text/html": [
       "<table class=\"dataframe\">\n",
       "<caption>A data.table: 1 × 1</caption>\n",
       "<thead>\n",
       "\t<tr><th scope=col>c15_b8</th></tr>\n",
       "\t<tr><th scope=col>&lt;dbl&gt;</th></tr>\n",
       "</thead>\n",
       "<tbody>\n",
       "\t<tr><td>0</td></tr>\n",
       "</tbody>\n",
       "</table>\n"
      ],
      "text/latex": [
       "A data.table: 1 × 1\n",
       "\\begin{tabular}{l}\n",
       " c15\\_b8\\\\\n",
       " <dbl>\\\\\n",
       "\\hline\n",
       "\t 0\\\\\n",
       "\\end{tabular}\n"
      ],
      "text/markdown": [
       "\n",
       "A data.table: 1 × 1\n",
       "\n",
       "| c15_b8 &lt;dbl&gt; |\n",
       "|---|\n",
       "| 0 |\n",
       "\n"
      ],
      "text/plain": [
       "  c15_b8\n",
       "1 0     "
      ]
     },
     "metadata": {},
     "output_type": "display_data"
    }
   ],
   "source": [
    "datar2<-data[2,]\n",
    "lis<-which(datar2==0) #626\n",
    "datar2[1,626]"
   ]
  },
  {
   "cell_type": "markdown",
   "id": "9d43c4a4-96f4-481e-9d9a-b3f476c81972",
   "metadata": {
    "kernel": "R"
   },
   "source": [
    "Show the original Ts and Tv values within block c15_b8. As we can see, number of Transitions in c15_b8 is 0 for sample 2. That will lead to 0 while calculating Ts/Tv."
   ]
  },
  {
   "cell_type": "code",
   "execution_count": 41,
   "id": "3eb3e5c7-301d-440b-a78a-4eaeb89e6f58",
   "metadata": {
    "kernel": "R"
   },
   "outputs": [
    {
     "data": {
      "text/html": [
       "<table class=\"dataframe\">\n",
       "<caption>A data.frame: 6 × 13</caption>\n",
       "<thead>\n",
       "\t<tr><th></th><th scope=col>id</th><th scope=col>sample</th><th scope=col>nRefHom</th><th scope=col>nNonRefHom</th><th scope=col>nHets</th><th scope=col>nTransitions</th><th scope=col>nTransversions</th><th scope=col>nIndels</th><th scope=col>average.depth</th><th scope=col>nSingletons</th><th scope=col>nHapRef</th><th scope=col>nHapAlt</th><th scope=col>nMissing</th></tr>\n",
       "\t<tr><th></th><th scope=col>&lt;int&gt;</th><th scope=col>&lt;int&gt;</th><th scope=col>&lt;int&gt;</th><th scope=col>&lt;int&gt;</th><th scope=col>&lt;int&gt;</th><th scope=col>&lt;int&gt;</th><th scope=col>&lt;int&gt;</th><th scope=col>&lt;int&gt;</th><th scope=col>&lt;dbl&gt;</th><th scope=col>&lt;int&gt;</th><th scope=col>&lt;int&gt;</th><th scope=col>&lt;int&gt;</th><th scope=col>&lt;int&gt;</th></tr>\n",
       "</thead>\n",
       "<tbody>\n",
       "\t<tr><th scope=row>1</th><td>0</td><td>1434748</td><td>12605</td><td>7</td><td>16</td><td>19</td><td>4</td><td>0</td><td>19.3</td><td>0</td><td>0</td><td>0</td><td>128</td></tr>\n",
       "\t<tr><th scope=row>2</th><td>0</td><td>5523981</td><td>12744</td><td>1</td><td> 2</td><td> 0</td><td>3</td><td>0</td><td>22.3</td><td>0</td><td>0</td><td>0</td><td>  9</td></tr>\n",
       "\t<tr><th scope=row>3</th><td>0</td><td>5023838</td><td>12355</td><td>2</td><td> 3</td><td> 2</td><td>3</td><td>0</td><td>18.3</td><td>0</td><td>0</td><td>0</td><td>396</td></tr>\n",
       "\t<tr><th scope=row>4</th><td>0</td><td>4023729</td><td>12701</td><td>1</td><td> 9</td><td> 7</td><td>3</td><td>0</td><td>20.9</td><td>0</td><td>0</td><td>0</td><td> 45</td></tr>\n",
       "\t<tr><th scope=row>5</th><td>0</td><td>4442146</td><td>12648</td><td>1</td><td>23</td><td>21</td><td>3</td><td>0</td><td>19.2</td><td>0</td><td>0</td><td>0</td><td> 84</td></tr>\n",
       "\t<tr><th scope=row>6</th><td>0</td><td>5654789</td><td>12684</td><td>2</td><td>18</td><td>16</td><td>4</td><td>0</td><td>20.3</td><td>0</td><td>0</td><td>0</td><td> 52</td></tr>\n",
       "</tbody>\n",
       "</table>\n"
      ],
      "text/latex": [
       "A data.frame: 6 × 13\n",
       "\\begin{tabular}{r|lllllllllllll}\n",
       "  & id & sample & nRefHom & nNonRefHom & nHets & nTransitions & nTransversions & nIndels & average.depth & nSingletons & nHapRef & nHapAlt & nMissing\\\\\n",
       "  & <int> & <int> & <int> & <int> & <int> & <int> & <int> & <int> & <dbl> & <int> & <int> & <int> & <int>\\\\\n",
       "\\hline\n",
       "\t1 & 0 & 1434748 & 12605 & 7 & 16 & 19 & 4 & 0 & 19.3 & 0 & 0 & 0 & 128\\\\\n",
       "\t2 & 0 & 5523981 & 12744 & 1 &  2 &  0 & 3 & 0 & 22.3 & 0 & 0 & 0 &   9\\\\\n",
       "\t3 & 0 & 5023838 & 12355 & 2 &  3 &  2 & 3 & 0 & 18.3 & 0 & 0 & 0 & 396\\\\\n",
       "\t4 & 0 & 4023729 & 12701 & 1 &  9 &  7 & 3 & 0 & 20.9 & 0 & 0 & 0 &  45\\\\\n",
       "\t5 & 0 & 4442146 & 12648 & 1 & 23 & 21 & 3 & 0 & 19.2 & 0 & 0 & 0 &  84\\\\\n",
       "\t6 & 0 & 5654789 & 12684 & 2 & 18 & 16 & 4 & 0 & 20.3 & 0 & 0 & 0 &  52\\\\\n",
       "\\end{tabular}\n"
      ],
      "text/markdown": [
       "\n",
       "A data.frame: 6 × 13\n",
       "\n",
       "| <!--/--> | id &lt;int&gt; | sample &lt;int&gt; | nRefHom &lt;int&gt; | nNonRefHom &lt;int&gt; | nHets &lt;int&gt; | nTransitions &lt;int&gt; | nTransversions &lt;int&gt; | nIndels &lt;int&gt; | average.depth &lt;dbl&gt; | nSingletons &lt;int&gt; | nHapRef &lt;int&gt; | nHapAlt &lt;int&gt; | nMissing &lt;int&gt; |\n",
       "|---|---|---|---|---|---|---|---|---|---|---|---|---|---|\n",
       "| 1 | 0 | 1434748 | 12605 | 7 | 16 | 19 | 4 | 0 | 19.3 | 0 | 0 | 0 | 128 |\n",
       "| 2 | 0 | 5523981 | 12744 | 1 |  2 |  0 | 3 | 0 | 22.3 | 0 | 0 | 0 |   9 |\n",
       "| 3 | 0 | 5023838 | 12355 | 2 |  3 |  2 | 3 | 0 | 18.3 | 0 | 0 | 0 | 396 |\n",
       "| 4 | 0 | 4023729 | 12701 | 1 |  9 |  7 | 3 | 0 | 20.9 | 0 | 0 | 0 |  45 |\n",
       "| 5 | 0 | 4442146 | 12648 | 1 | 23 | 21 | 3 | 0 | 19.2 | 0 | 0 | 0 |  84 |\n",
       "| 6 | 0 | 5654789 | 12684 | 2 | 18 | 16 | 4 | 0 | 20.3 | 0 | 0 | 0 |  52 |\n",
       "\n"
      ],
      "text/plain": [
       "  id sample  nRefHom nNonRefHom nHets nTransitions nTransversions nIndels\n",
       "1 0  1434748 12605   7          16    19           4              0      \n",
       "2 0  5523981 12744   1           2     0           3              0      \n",
       "3 0  5023838 12355   2           3     2           3              0      \n",
       "4 0  4023729 12701   1           9     7           3              0      \n",
       "5 0  4442146 12648   1          23    21           3              0      \n",
       "6 0  5654789 12684   2          18    16           4              0      \n",
       "  average.depth nSingletons nHapRef nHapAlt nMissing\n",
       "1 19.3          0           0       0       128     \n",
       "2 22.3          0           0       0         9     \n",
       "3 18.3          0           0       0       396     \n",
       "4 20.9          0           0       0        45     \n",
       "5 19.2          0           0       0        84     \n",
       "6 20.3          0           0       0        52     "
      ]
     },
     "metadata": {},
     "output_type": "display_data"
    }
   ],
   "source": [
    "c15b8<-read.bcftools.stats(\"~/UKBiobank/vcf/ukb23156_c15_b8_v1.biallelic.filtered.stats_bcftools\", label = NULL)\n",
    "psc<-c15b8$PSC\n",
    "head(psc)"
   ]
  },
  {
   "cell_type": "markdown",
   "id": "7f717fca-83bd-46f1-873b-7f1c3ce53559",
   "metadata": {
    "kernel": "R"
   },
   "source": [
    "#### Confirmation of inf"
   ]
  },
  {
   "cell_type": "markdown",
   "id": "090e6def-be1b-41a7-9695-4d2eaf6fa741",
   "metadata": {
    "kernel": "R"
   },
   "source": [
    "For example, Inf values can be found in the first sample. Find the exact chromosome blocker which produces the inf and check in the original data. It's hard to operate on inf value directly and I replace them with \"A\"."
   ]
  },
  {
   "cell_type": "code",
   "execution_count": 39,
   "id": "2a59dba3-7622-4169-a88c-1722f6b2df8c",
   "metadata": {
    "kernel": "R"
   },
   "outputs": [
    {
     "data": {
      "text/html": [
       "<table class=\"dataframe\">\n",
       "<caption>A data.table: 1 × 1</caption>\n",
       "<thead>\n",
       "\t<tr><th scope=col>c15_b8</th></tr>\n",
       "\t<tr><th scope=col>&lt;dbl&gt;</th></tr>\n",
       "</thead>\n",
       "<tbody>\n",
       "\t<tr><td>0</td></tr>\n",
       "</tbody>\n",
       "</table>\n"
      ],
      "text/latex": [
       "A data.table: 1 × 1\n",
       "\\begin{tabular}{l}\n",
       " c15\\_b8\\\\\n",
       " <dbl>\\\\\n",
       "\\hline\n",
       "\t 0\\\\\n",
       "\\end{tabular}\n"
      ],
      "text/markdown": [
       "\n",
       "A data.table: 1 × 1\n",
       "\n",
       "| c15_b8 &lt;dbl&gt; |\n",
       "|---|\n",
       "| 0 |\n",
       "\n"
      ],
      "text/plain": [
       "  c15_b8\n",
       "1 0     "
      ]
     },
     "metadata": {},
     "output_type": "display_data"
    }
   ],
   "source": [
    "datar1<-data[1,]\n",
    "#sum(is.infinite(as.matrix(datar1)))\n",
    "datar1[is.infinite(as.matrix(datar1))]<-\"A\"\n",
    "lis<-which(datar1==\"A\") #366,598,697,794,845,940,951\n",
    "datar1[1,366]"
   ]
  },
  {
   "cell_type": "markdown",
   "id": "68f916c7-4a99-41f8-8952-e8cb80942105",
   "metadata": {
    "kernel": "R"
   },
   "source": [
    "Show the original Ts and Tv values within block c20_b11. As we can see, number of Transversions in c20_b11 is 0 for sample 1 as well as sample 5. That will lead to inf while calculating Ts/Tv."
   ]
  },
  {
   "cell_type": "code",
   "execution_count": 36,
   "id": "831050a7-4fb6-4030-970d-bd4561024873",
   "metadata": {
    "kernel": "R"
   },
   "outputs": [
    {
     "data": {
      "text/html": [
       "<table class=\"dataframe\">\n",
       "<caption>A data.frame: 6 × 13</caption>\n",
       "<thead>\n",
       "\t<tr><th></th><th scope=col>id</th><th scope=col>sample</th><th scope=col>nRefHom</th><th scope=col>nNonRefHom</th><th scope=col>nHets</th><th scope=col>nTransitions</th><th scope=col>nTransversions</th><th scope=col>nIndels</th><th scope=col>average.depth</th><th scope=col>nSingletons</th><th scope=col>nHapRef</th><th scope=col>nHapAlt</th><th scope=col>nMissing</th></tr>\n",
       "\t<tr><th></th><th scope=col>&lt;int&gt;</th><th scope=col>&lt;int&gt;</th><th scope=col>&lt;int&gt;</th><th scope=col>&lt;int&gt;</th><th scope=col>&lt;int&gt;</th><th scope=col>&lt;int&gt;</th><th scope=col>&lt;int&gt;</th><th scope=col>&lt;int&gt;</th><th scope=col>&lt;dbl&gt;</th><th scope=col>&lt;int&gt;</th><th scope=col>&lt;int&gt;</th><th scope=col>&lt;int&gt;</th><th scope=col>&lt;int&gt;</th></tr>\n",
       "</thead>\n",
       "<tbody>\n",
       "\t<tr><th scope=row>1</th><td>0</td><td>1434748</td><td>12871</td><td>2</td><td> 6</td><td> 8</td><td>0</td><td>0</td><td>18.7</td><td>0</td><td>0</td><td>0</td><td> 98</td></tr>\n",
       "\t<tr><th scope=row>2</th><td>0</td><td>5523981</td><td>12961</td><td>5</td><td> 2</td><td> 6</td><td>1</td><td>0</td><td>23.4</td><td>0</td><td>0</td><td>0</td><td>  9</td></tr>\n",
       "\t<tr><th scope=row>3</th><td>0</td><td>5023838</td><td>12578</td><td>4</td><td>10</td><td>11</td><td>3</td><td>0</td><td>18.6</td><td>0</td><td>0</td><td>0</td><td>385</td></tr>\n",
       "\t<tr><th scope=row>4</th><td>0</td><td>4023729</td><td>12925</td><td>1</td><td> 4</td><td> 4</td><td>1</td><td>0</td><td>19.5</td><td>0</td><td>0</td><td>0</td><td> 47</td></tr>\n",
       "\t<tr><th scope=row>5</th><td>0</td><td>4442146</td><td>12921</td><td>1</td><td> 6</td><td> 7</td><td>0</td><td>0</td><td>19.8</td><td>1</td><td>0</td><td>0</td><td> 49</td></tr>\n",
       "\t<tr><th scope=row>6</th><td>0</td><td>5654789</td><td>12899</td><td>1</td><td>14</td><td>14</td><td>1</td><td>0</td><td>19.6</td><td>0</td><td>0</td><td>0</td><td> 63</td></tr>\n",
       "</tbody>\n",
       "</table>\n"
      ],
      "text/latex": [
       "A data.frame: 6 × 13\n",
       "\\begin{tabular}{r|lllllllllllll}\n",
       "  & id & sample & nRefHom & nNonRefHom & nHets & nTransitions & nTransversions & nIndels & average.depth & nSingletons & nHapRef & nHapAlt & nMissing\\\\\n",
       "  & <int> & <int> & <int> & <int> & <int> & <int> & <int> & <int> & <dbl> & <int> & <int> & <int> & <int>\\\\\n",
       "\\hline\n",
       "\t1 & 0 & 1434748 & 12871 & 2 &  6 &  8 & 0 & 0 & 18.7 & 0 & 0 & 0 &  98\\\\\n",
       "\t2 & 0 & 5523981 & 12961 & 5 &  2 &  6 & 1 & 0 & 23.4 & 0 & 0 & 0 &   9\\\\\n",
       "\t3 & 0 & 5023838 & 12578 & 4 & 10 & 11 & 3 & 0 & 18.6 & 0 & 0 & 0 & 385\\\\\n",
       "\t4 & 0 & 4023729 & 12925 & 1 &  4 &  4 & 1 & 0 & 19.5 & 0 & 0 & 0 &  47\\\\\n",
       "\t5 & 0 & 4442146 & 12921 & 1 &  6 &  7 & 0 & 0 & 19.8 & 1 & 0 & 0 &  49\\\\\n",
       "\t6 & 0 & 5654789 & 12899 & 1 & 14 & 14 & 1 & 0 & 19.6 & 0 & 0 & 0 &  63\\\\\n",
       "\\end{tabular}\n"
      ],
      "text/markdown": [
       "\n",
       "A data.frame: 6 × 13\n",
       "\n",
       "| <!--/--> | id &lt;int&gt; | sample &lt;int&gt; | nRefHom &lt;int&gt; | nNonRefHom &lt;int&gt; | nHets &lt;int&gt; | nTransitions &lt;int&gt; | nTransversions &lt;int&gt; | nIndels &lt;int&gt; | average.depth &lt;dbl&gt; | nSingletons &lt;int&gt; | nHapRef &lt;int&gt; | nHapAlt &lt;int&gt; | nMissing &lt;int&gt; |\n",
       "|---|---|---|---|---|---|---|---|---|---|---|---|---|---|\n",
       "| 1 | 0 | 1434748 | 12871 | 2 |  6 |  8 | 0 | 0 | 18.7 | 0 | 0 | 0 |  98 |\n",
       "| 2 | 0 | 5523981 | 12961 | 5 |  2 |  6 | 1 | 0 | 23.4 | 0 | 0 | 0 |   9 |\n",
       "| 3 | 0 | 5023838 | 12578 | 4 | 10 | 11 | 3 | 0 | 18.6 | 0 | 0 | 0 | 385 |\n",
       "| 4 | 0 | 4023729 | 12925 | 1 |  4 |  4 | 1 | 0 | 19.5 | 0 | 0 | 0 |  47 |\n",
       "| 5 | 0 | 4442146 | 12921 | 1 |  6 |  7 | 0 | 0 | 19.8 | 1 | 0 | 0 |  49 |\n",
       "| 6 | 0 | 5654789 | 12899 | 1 | 14 | 14 | 1 | 0 | 19.6 | 0 | 0 | 0 |  63 |\n",
       "\n"
      ],
      "text/plain": [
       "  id sample  nRefHom nNonRefHom nHets nTransitions nTransversions nIndels\n",
       "1 0  1434748 12871   2           6     8           0              0      \n",
       "2 0  5523981 12961   5           2     6           1              0      \n",
       "3 0  5023838 12578   4          10    11           3              0      \n",
       "4 0  4023729 12925   1           4     4           1              0      \n",
       "5 0  4442146 12921   1           6     7           0              0      \n",
       "6 0  5654789 12899   1          14    14           1              0      \n",
       "  average.depth nSingletons nHapRef nHapAlt nMissing\n",
       "1 18.7          0           0       0        98     \n",
       "2 23.4          0           0       0         9     \n",
       "3 18.6          0           0       0       385     \n",
       "4 19.5          0           0       0        47     \n",
       "5 19.8          1           0       0        49     \n",
       "6 19.6          0           0       0        63     "
      ]
     },
     "metadata": {},
     "output_type": "display_data"
    }
   ],
   "source": [
    "c20b11<-read.bcftools.stats(\"~/UKBiobank/vcf/ukb23156_c20_b11_v1.biallelic.filtered.stats_bcftools\", label = NULL)\n",
    "psc<-c20b11$PSC\n",
    "head(psc)"
   ]
  },
  {
   "cell_type": "markdown",
   "id": "780f1ac0-6153-4636-bcf8-1273dee713ec",
   "metadata": {
    "kernel": "R"
   },
   "source": [
    "#### Confirmation of NA"
   ]
  },
  {
   "cell_type": "markdown",
   "id": "19f8f5c2-93ec-4712-9982-14417f1f81e9",
   "metadata": {
    "kernel": "R"
   },
   "source": [
    "For example, Inf values can be found in the sample 10 and 25. Find the exact chromosome blocker which produces the NA and check in the original data."
   ]
  },
  {
   "cell_type": "code",
   "execution_count": 63,
   "id": "2a643753-81f2-4cdf-8083-d09b0a68e081",
   "metadata": {
    "kernel": "R"
   },
   "outputs": [
    {
     "data": {
      "text/html": [
       "<table class=\"dataframe\">\n",
       "<caption>A data.table: 1 × 1</caption>\n",
       "<thead>\n",
       "\t<tr><th scope=col>c19_b42</th></tr>\n",
       "\t<tr><th scope=col>&lt;dbl&gt;</th></tr>\n",
       "</thead>\n",
       "<tbody>\n",
       "\t<tr><td>NA</td></tr>\n",
       "</tbody>\n",
       "</table>\n"
      ],
      "text/latex": [
       "A data.table: 1 × 1\n",
       "\\begin{tabular}{l}\n",
       " c19\\_b42\\\\\n",
       " <dbl>\\\\\n",
       "\\hline\n",
       "\t NA\\\\\n",
       "\\end{tabular}\n"
      ],
      "text/markdown": [
       "\n",
       "A data.table: 1 × 1\n",
       "\n",
       "| c19_b42 &lt;dbl&gt; |\n",
       "|---|\n",
       "| NA |\n",
       "\n"
      ],
      "text/plain": [
       "  c19_b42\n",
       "1 NA     "
      ]
     },
     "metadata": {},
     "output_type": "display_data"
    }
   ],
   "source": [
    "datar10<-data[10,]\n",
    "#sum(is.na(datar10)) #1\n",
    "# which(is.na(datar10)) #468\n",
    "datar10[1,468]"
   ]
  },
  {
   "cell_type": "code",
   "execution_count": 51,
   "id": "8c0043db-fdba-4d3d-8997-f13829b4cfa6",
   "metadata": {
    "kernel": "R"
   },
   "outputs": [
    {
     "data": {
      "text/html": [
       "<table class=\"dataframe\">\n",
       "<caption>A data.frame: 10 × 13</caption>\n",
       "<thead>\n",
       "\t<tr><th></th><th scope=col>id</th><th scope=col>sample</th><th scope=col>nRefHom</th><th scope=col>nNonRefHom</th><th scope=col>nHets</th><th scope=col>nTransitions</th><th scope=col>nTransversions</th><th scope=col>nIndels</th><th scope=col>average.depth</th><th scope=col>nSingletons</th><th scope=col>nHapRef</th><th scope=col>nHapAlt</th><th scope=col>nMissing</th></tr>\n",
       "\t<tr><th></th><th scope=col>&lt;int&gt;</th><th scope=col>&lt;int&gt;</th><th scope=col>&lt;int&gt;</th><th scope=col>&lt;int&gt;</th><th scope=col>&lt;int&gt;</th><th scope=col>&lt;int&gt;</th><th scope=col>&lt;int&gt;</th><th scope=col>&lt;int&gt;</th><th scope=col>&lt;dbl&gt;</th><th scope=col>&lt;int&gt;</th><th scope=col>&lt;int&gt;</th><th scope=col>&lt;int&gt;</th><th scope=col>&lt;int&gt;</th></tr>\n",
       "</thead>\n",
       "<tbody>\n",
       "\t<tr><th scope=row>1</th><td>0</td><td>1434748</td><td>13262</td><td>0</td><td> 6</td><td> 3</td><td>3</td><td>0</td><td>22.8</td><td>0</td><td>0</td><td>0</td><td> 27</td></tr>\n",
       "\t<tr><th scope=row>2</th><td>0</td><td>5523981</td><td>13293</td><td>0</td><td> 2</td><td> 2</td><td>0</td><td>0</td><td>30.5</td><td>0</td><td>0</td><td>0</td><td>  0</td></tr>\n",
       "\t<tr><th scope=row>3</th><td>0</td><td>5023838</td><td>12996</td><td>0</td><td> 4</td><td> 2</td><td>2</td><td>0</td><td>18.7</td><td>0</td><td>0</td><td>0</td><td>295</td></tr>\n",
       "\t<tr><th scope=row>4</th><td>0</td><td>4023729</td><td>13263</td><td>0</td><td> 2</td><td> 2</td><td>0</td><td>0</td><td>25.3</td><td>0</td><td>0</td><td>0</td><td> 30</td></tr>\n",
       "\t<tr><th scope=row>5</th><td>0</td><td>4442146</td><td>13271</td><td>0</td><td> 3</td><td> 1</td><td>2</td><td>0</td><td>21.0</td><td>0</td><td>0</td><td>0</td><td> 21</td></tr>\n",
       "\t<tr><th scope=row>6</th><td>0</td><td>5654789</td><td>13255</td><td>0</td><td>16</td><td>10</td><td>6</td><td>0</td><td>24.4</td><td>0</td><td>0</td><td>0</td><td> 24</td></tr>\n",
       "\t<tr><th scope=row>7</th><td>0</td><td>4515669</td><td>13281</td><td>0</td><td> 5</td><td> 4</td><td>1</td><td>0</td><td>23.5</td><td>0</td><td>0</td><td>0</td><td>  9</td></tr>\n",
       "\t<tr><th scope=row>8</th><td>0</td><td>1129683</td><td>13214</td><td>0</td><td> 1</td><td> 1</td><td>0</td><td>0</td><td>19.6</td><td>0</td><td>0</td><td>0</td><td> 80</td></tr>\n",
       "\t<tr><th scope=row>9</th><td>0</td><td>5327043</td><td>13280</td><td>0</td><td> 5</td><td> 2</td><td>3</td><td>0</td><td>28.2</td><td>0</td><td>0</td><td>0</td><td> 10</td></tr>\n",
       "\t<tr><th scope=row>10</th><td>0</td><td>4744741</td><td>13244</td><td>0</td><td> 0</td><td> 0</td><td>0</td><td>0</td><td>19.6</td><td>0</td><td>0</td><td>0</td><td> 51</td></tr>\n",
       "</tbody>\n",
       "</table>\n"
      ],
      "text/latex": [
       "A data.frame: 10 × 13\n",
       "\\begin{tabular}{r|lllllllllllll}\n",
       "  & id & sample & nRefHom & nNonRefHom & nHets & nTransitions & nTransversions & nIndels & average.depth & nSingletons & nHapRef & nHapAlt & nMissing\\\\\n",
       "  & <int> & <int> & <int> & <int> & <int> & <int> & <int> & <int> & <dbl> & <int> & <int> & <int> & <int>\\\\\n",
       "\\hline\n",
       "\t1 & 0 & 1434748 & 13262 & 0 &  6 &  3 & 3 & 0 & 22.8 & 0 & 0 & 0 &  27\\\\\n",
       "\t2 & 0 & 5523981 & 13293 & 0 &  2 &  2 & 0 & 0 & 30.5 & 0 & 0 & 0 &   0\\\\\n",
       "\t3 & 0 & 5023838 & 12996 & 0 &  4 &  2 & 2 & 0 & 18.7 & 0 & 0 & 0 & 295\\\\\n",
       "\t4 & 0 & 4023729 & 13263 & 0 &  2 &  2 & 0 & 0 & 25.3 & 0 & 0 & 0 &  30\\\\\n",
       "\t5 & 0 & 4442146 & 13271 & 0 &  3 &  1 & 2 & 0 & 21.0 & 0 & 0 & 0 &  21\\\\\n",
       "\t6 & 0 & 5654789 & 13255 & 0 & 16 & 10 & 6 & 0 & 24.4 & 0 & 0 & 0 &  24\\\\\n",
       "\t7 & 0 & 4515669 & 13281 & 0 &  5 &  4 & 1 & 0 & 23.5 & 0 & 0 & 0 &   9\\\\\n",
       "\t8 & 0 & 1129683 & 13214 & 0 &  1 &  1 & 0 & 0 & 19.6 & 0 & 0 & 0 &  80\\\\\n",
       "\t9 & 0 & 5327043 & 13280 & 0 &  5 &  2 & 3 & 0 & 28.2 & 0 & 0 & 0 &  10\\\\\n",
       "\t10 & 0 & 4744741 & 13244 & 0 &  0 &  0 & 0 & 0 & 19.6 & 0 & 0 & 0 &  51\\\\\n",
       "\\end{tabular}\n"
      ],
      "text/markdown": [
       "\n",
       "A data.frame: 10 × 13\n",
       "\n",
       "| <!--/--> | id &lt;int&gt; | sample &lt;int&gt; | nRefHom &lt;int&gt; | nNonRefHom &lt;int&gt; | nHets &lt;int&gt; | nTransitions &lt;int&gt; | nTransversions &lt;int&gt; | nIndels &lt;int&gt; | average.depth &lt;dbl&gt; | nSingletons &lt;int&gt; | nHapRef &lt;int&gt; | nHapAlt &lt;int&gt; | nMissing &lt;int&gt; |\n",
       "|---|---|---|---|---|---|---|---|---|---|---|---|---|---|\n",
       "| 1 | 0 | 1434748 | 13262 | 0 |  6 |  3 | 3 | 0 | 22.8 | 0 | 0 | 0 |  27 |\n",
       "| 2 | 0 | 5523981 | 13293 | 0 |  2 |  2 | 0 | 0 | 30.5 | 0 | 0 | 0 |   0 |\n",
       "| 3 | 0 | 5023838 | 12996 | 0 |  4 |  2 | 2 | 0 | 18.7 | 0 | 0 | 0 | 295 |\n",
       "| 4 | 0 | 4023729 | 13263 | 0 |  2 |  2 | 0 | 0 | 25.3 | 0 | 0 | 0 |  30 |\n",
       "| 5 | 0 | 4442146 | 13271 | 0 |  3 |  1 | 2 | 0 | 21.0 | 0 | 0 | 0 |  21 |\n",
       "| 6 | 0 | 5654789 | 13255 | 0 | 16 | 10 | 6 | 0 | 24.4 | 0 | 0 | 0 |  24 |\n",
       "| 7 | 0 | 4515669 | 13281 | 0 |  5 |  4 | 1 | 0 | 23.5 | 0 | 0 | 0 |   9 |\n",
       "| 8 | 0 | 1129683 | 13214 | 0 |  1 |  1 | 0 | 0 | 19.6 | 0 | 0 | 0 |  80 |\n",
       "| 9 | 0 | 5327043 | 13280 | 0 |  5 |  2 | 3 | 0 | 28.2 | 0 | 0 | 0 |  10 |\n",
       "| 10 | 0 | 4744741 | 13244 | 0 |  0 |  0 | 0 | 0 | 19.6 | 0 | 0 | 0 |  51 |\n",
       "\n"
      ],
      "text/plain": [
       "   id sample  nRefHom nNonRefHom nHets nTransitions nTransversions nIndels\n",
       "1  0  1434748 13262   0           6     3           3              0      \n",
       "2  0  5523981 13293   0           2     2           0              0      \n",
       "3  0  5023838 12996   0           4     2           2              0      \n",
       "4  0  4023729 13263   0           2     2           0              0      \n",
       "5  0  4442146 13271   0           3     1           2              0      \n",
       "6  0  5654789 13255   0          16    10           6              0      \n",
       "7  0  4515669 13281   0           5     4           1              0      \n",
       "8  0  1129683 13214   0           1     1           0              0      \n",
       "9  0  5327043 13280   0           5     2           3              0      \n",
       "10 0  4744741 13244   0           0     0           0              0      \n",
       "   average.depth nSingletons nHapRef nHapAlt nMissing\n",
       "1  22.8          0           0       0        27     \n",
       "2  30.5          0           0       0         0     \n",
       "3  18.7          0           0       0       295     \n",
       "4  25.3          0           0       0        30     \n",
       "5  21.0          0           0       0        21     \n",
       "6  24.4          0           0       0        24     \n",
       "7  23.5          0           0       0         9     \n",
       "8  19.6          0           0       0        80     \n",
       "9  28.2          0           0       0        10     \n",
       "10 19.6          0           0       0        51     "
      ]
     },
     "metadata": {},
     "output_type": "display_data"
    }
   ],
   "source": [
    "c19b42<-read.bcftools.stats(\"~/UKBiobank/vcf/ukb23156_c19_b42_v1.biallelic.filtered.stats_bcftools\", label = NULL)\n",
    "psc<-c19b42$PSC\n",
    "head(psc,10)"
   ]
  },
  {
   "cell_type": "code",
   "execution_count": null,
   "id": "e272c54f-c954-4b56-9ed1-8b56c20142d9",
   "metadata": {
    "kernel": "R"
   },
   "outputs": [],
   "source": []
  },
  {
   "cell_type": "code",
   "execution_count": 64,
   "id": "6994b139-40b5-4f82-996f-2523ab2b3c25",
   "metadata": {
    "kernel": "R"
   },
   "outputs": [
    {
     "data": {
      "text/html": [
       "<style>\n",
       ".list-inline {list-style: none; margin:0; padding: 0}\n",
       ".list-inline>li {display: inline-block}\n",
       ".list-inline>li:not(:last-child)::after {content: \"\\00b7\"; padding: 0 .5ex}\n",
       "</style>\n",
       "<ol class=list-inline><li>169</li><li>170</li></ol>\n"
      ],
      "text/latex": [
       "\\begin{enumerate*}\n",
       "\\item 169\n",
       "\\item 170\n",
       "\\end{enumerate*}\n"
      ],
      "text/markdown": [
       "1. 169\n",
       "2. 170\n",
       "\n",
       "\n"
      ],
      "text/plain": [
       "[1] 169 170"
      ]
     },
     "metadata": {},
     "output_type": "display_data"
    },
    {
     "data": {
      "text/html": [
       "<table class=\"dataframe\">\n",
       "<caption>A data.table: 1 × 1</caption>\n",
       "<thead>\n",
       "\t<tr><th scope=col>c6_b11</th></tr>\n",
       "\t<tr><th scope=col>&lt;dbl&gt;</th></tr>\n",
       "</thead>\n",
       "<tbody>\n",
       "\t<tr><td>NA</td></tr>\n",
       "</tbody>\n",
       "</table>\n"
      ],
      "text/latex": [
       "A data.table: 1 × 1\n",
       "\\begin{tabular}{l}\n",
       " c6\\_b11\\\\\n",
       " <dbl>\\\\\n",
       "\\hline\n",
       "\t NA\\\\\n",
       "\\end{tabular}\n"
      ],
      "text/markdown": [
       "\n",
       "A data.table: 1 × 1\n",
       "\n",
       "| c6_b11 &lt;dbl&gt; |\n",
       "|---|\n",
       "| NA |\n",
       "\n"
      ],
      "text/plain": [
       "  c6_b11\n",
       "1 NA    "
      ]
     },
     "metadata": {},
     "output_type": "display_data"
    }
   ],
   "source": [
    "datar25<-data[25,]\n",
    "# sum(is.na(datar25)) #2\n",
    "which(is.na(datar25)) #169, 170\n",
    "datar25[1,169]"
   ]
  },
  {
   "cell_type": "code",
   "execution_count": 68,
   "id": "2705c7cc-9efe-400a-bdf4-d840d8aefb8a",
   "metadata": {
    "kernel": "R"
   },
   "outputs": [
    {
     "data": {
      "text/html": [
       "<table class=\"dataframe\">\n",
       "<caption>A data.frame: 6 × 13</caption>\n",
       "<thead>\n",
       "\t<tr><th></th><th scope=col>id</th><th scope=col>sample</th><th scope=col>nRefHom</th><th scope=col>nNonRefHom</th><th scope=col>nHets</th><th scope=col>nTransitions</th><th scope=col>nTransversions</th><th scope=col>nIndels</th><th scope=col>average.depth</th><th scope=col>nSingletons</th><th scope=col>nHapRef</th><th scope=col>nHapAlt</th><th scope=col>nMissing</th></tr>\n",
       "\t<tr><th></th><th scope=col>&lt;int&gt;</th><th scope=col>&lt;int&gt;</th><th scope=col>&lt;int&gt;</th><th scope=col>&lt;int&gt;</th><th scope=col>&lt;int&gt;</th><th scope=col>&lt;int&gt;</th><th scope=col>&lt;int&gt;</th><th scope=col>&lt;int&gt;</th><th scope=col>&lt;dbl&gt;</th><th scope=col>&lt;int&gt;</th><th scope=col>&lt;int&gt;</th><th scope=col>&lt;int&gt;</th><th scope=col>&lt;int&gt;</th></tr>\n",
       "</thead>\n",
       "<tbody>\n",
       "\t<tr><th scope=row>20</th><td>0</td><td>3748499</td><td>10813</td><td>18</td><td>65</td><td>62</td><td>21</td><td>0</td><td>19.0</td><td>0</td><td>0</td><td>0</td><td>142</td></tr>\n",
       "\t<tr><th scope=row>21</th><td>0</td><td>2204914</td><td>10900</td><td> 0</td><td>53</td><td>42</td><td>11</td><td>0</td><td>20.7</td><td>0</td><td>0</td><td>0</td><td> 85</td></tr>\n",
       "\t<tr><th scope=row>22</th><td>0</td><td>1892597</td><td>10906</td><td>26</td><td>73</td><td>80</td><td>19</td><td>0</td><td>19.8</td><td>0</td><td>0</td><td>0</td><td> 33</td></tr>\n",
       "\t<tr><th scope=row>23</th><td>0</td><td>5009888</td><td>10918</td><td>15</td><td>37</td><td>36</td><td>16</td><td>0</td><td>19.2</td><td>0</td><td>0</td><td>0</td><td> 68</td></tr>\n",
       "\t<tr><th scope=row>24</th><td>0</td><td>3061244</td><td>10885</td><td>21</td><td>82</td><td>78</td><td>25</td><td>0</td><td>22.5</td><td>0</td><td>0</td><td>0</td><td> 50</td></tr>\n",
       "\t<tr><th scope=row>25</th><td>0</td><td>2845327</td><td>10872</td><td> 0</td><td> 0</td><td> 0</td><td> 0</td><td>0</td><td>17.3</td><td>0</td><td>0</td><td>0</td><td>166</td></tr>\n",
       "</tbody>\n",
       "</table>\n"
      ],
      "text/latex": [
       "A data.frame: 6 × 13\n",
       "\\begin{tabular}{r|lllllllllllll}\n",
       "  & id & sample & nRefHom & nNonRefHom & nHets & nTransitions & nTransversions & nIndels & average.depth & nSingletons & nHapRef & nHapAlt & nMissing\\\\\n",
       "  & <int> & <int> & <int> & <int> & <int> & <int> & <int> & <int> & <dbl> & <int> & <int> & <int> & <int>\\\\\n",
       "\\hline\n",
       "\t20 & 0 & 3748499 & 10813 & 18 & 65 & 62 & 21 & 0 & 19.0 & 0 & 0 & 0 & 142\\\\\n",
       "\t21 & 0 & 2204914 & 10900 &  0 & 53 & 42 & 11 & 0 & 20.7 & 0 & 0 & 0 &  85\\\\\n",
       "\t22 & 0 & 1892597 & 10906 & 26 & 73 & 80 & 19 & 0 & 19.8 & 0 & 0 & 0 &  33\\\\\n",
       "\t23 & 0 & 5009888 & 10918 & 15 & 37 & 36 & 16 & 0 & 19.2 & 0 & 0 & 0 &  68\\\\\n",
       "\t24 & 0 & 3061244 & 10885 & 21 & 82 & 78 & 25 & 0 & 22.5 & 0 & 0 & 0 &  50\\\\\n",
       "\t25 & 0 & 2845327 & 10872 &  0 &  0 &  0 &  0 & 0 & 17.3 & 0 & 0 & 0 & 166\\\\\n",
       "\\end{tabular}\n"
      ],
      "text/markdown": [
       "\n",
       "A data.frame: 6 × 13\n",
       "\n",
       "| <!--/--> | id &lt;int&gt; | sample &lt;int&gt; | nRefHom &lt;int&gt; | nNonRefHom &lt;int&gt; | nHets &lt;int&gt; | nTransitions &lt;int&gt; | nTransversions &lt;int&gt; | nIndels &lt;int&gt; | average.depth &lt;dbl&gt; | nSingletons &lt;int&gt; | nHapRef &lt;int&gt; | nHapAlt &lt;int&gt; | nMissing &lt;int&gt; |\n",
       "|---|---|---|---|---|---|---|---|---|---|---|---|---|---|\n",
       "| 20 | 0 | 3748499 | 10813 | 18 | 65 | 62 | 21 | 0 | 19.0 | 0 | 0 | 0 | 142 |\n",
       "| 21 | 0 | 2204914 | 10900 |  0 | 53 | 42 | 11 | 0 | 20.7 | 0 | 0 | 0 |  85 |\n",
       "| 22 | 0 | 1892597 | 10906 | 26 | 73 | 80 | 19 | 0 | 19.8 | 0 | 0 | 0 |  33 |\n",
       "| 23 | 0 | 5009888 | 10918 | 15 | 37 | 36 | 16 | 0 | 19.2 | 0 | 0 | 0 |  68 |\n",
       "| 24 | 0 | 3061244 | 10885 | 21 | 82 | 78 | 25 | 0 | 22.5 | 0 | 0 | 0 |  50 |\n",
       "| 25 | 0 | 2845327 | 10872 |  0 |  0 |  0 |  0 | 0 | 17.3 | 0 | 0 | 0 | 166 |\n",
       "\n"
      ],
      "text/plain": [
       "   id sample  nRefHom nNonRefHom nHets nTransitions nTransversions nIndels\n",
       "20 0  3748499 10813   18         65    62           21             0      \n",
       "21 0  2204914 10900    0         53    42           11             0      \n",
       "22 0  1892597 10906   26         73    80           19             0      \n",
       "23 0  5009888 10918   15         37    36           16             0      \n",
       "24 0  3061244 10885   21         82    78           25             0      \n",
       "25 0  2845327 10872    0          0     0            0             0      \n",
       "   average.depth nSingletons nHapRef nHapAlt nMissing\n",
       "20 19.0          0           0       0       142     \n",
       "21 20.7          0           0       0        85     \n",
       "22 19.8          0           0       0        33     \n",
       "23 19.2          0           0       0        68     \n",
       "24 22.5          0           0       0        50     \n",
       "25 17.3          0           0       0       166     "
      ]
     },
     "metadata": {},
     "output_type": "display_data"
    }
   ],
   "source": [
    "c6b11<-read.bcftools.stats(\"~/UKBiobank/vcf/ukb23156_c6_b11_v1.biallelic.filtered.stats_bcftools\", label = NULL)\n",
    "psc<-c6b11$PSC\n",
    "psc[20:25,]"
   ]
  },
  {
   "cell_type": "markdown",
   "id": "d50f4187-2ca9-4a5e-8275-e407ee0d2386",
   "metadata": {
    "kernel": "R"
   },
   "source": [
    "As we can see, when the number of Transitions and Transversions are both 0. That will lead to NA while calculating Ts/Tv."
   ]
  },
  {
   "cell_type": "code",
   "execution_count": null,
   "id": "b4c09042-bbf2-48c8-a6cb-44cd21162596",
   "metadata": {
    "kernel": "R"
   },
   "outputs": [],
   "source": []
  },
  {
   "cell_type": "markdown",
   "id": "8947e6d0-7439-4117-af32-ab561a1b051c",
   "metadata": {
    "kernel": "R"
   },
   "source": [
    "## Calculate the average median TsTv of all chromosomes within each sample"
   ]
  },
  {
   "cell_type": "code",
   "execution_count": 70,
   "id": "3730a8cd-d24d-4b93-8930-e11e3e0fc1cf",
   "metadata": {
    "kernel": "R"
   },
   "outputs": [
    {
     "data": {
      "text/html": [
       "3.25578695970099"
      ],
      "text/latex": [
       "3.25578695970099"
      ],
      "text/markdown": [
       "3.25578695970099"
      ],
      "text/plain": [
       "[1] 3.255787"
      ]
     },
     "metadata": {},
     "output_type": "display_data"
    },
    {
     "data": {
      "text/html": [
       "<strong>png:</strong> 2"
      ],
      "text/latex": [
       "\\textbf{png:} 2"
      ],
      "text/markdown": [
       "**png:** 2"
      ],
      "text/plain": [
       "png \n",
       "  2 "
      ]
     },
     "metadata": {},
     "output_type": "display_data"
    },
    {
     "data": {
      "image/png": "[encoded data removed]",
      "text/plain": [
       "plot without title"
      ]
     },
     "metadata": {
      "image/png": {
       "height": 420,
       "width": 420
      }
     },
     "output_type": "display_data"
    }
   ],
   "source": [
    "library(\"matrixStats\")\n",
    "datano<-data\n",
    "datano[is.infinite(as.matrix(data))]<-NA\n",
    "datano[data==0]<-NA\n",
    "med<-rowMedians(as.matrix(datano),na.rm=TRUE)\n",
    "mediantstv<-data.frame(sample=psc$sample,MedTsTv=med)\n",
    "#sum(mediantstv==0)\n",
    "#sum(is.infinite(as.matrix(mediantstv)))\n",
    "#sum(is.na(mediantstv))\n",
    "mean(mediantstv$MedTsTv)\n",
    "plot(mediantstv$MedTsTv,pch=16,xlab=\"sample\",ylab=\"Median TsTv\")\n",
    "png(\"ukb23156.biallelic.merged.ignored.median.tstv.scatter.png\",width = 1000, height = 1000)\n",
    "plot(mediantstv$MedTsTv,pch=16,xlab=\"sample\",ylab=\"Median TsTv\")\n",
    "dev.off()"
   ]
  },
  {
   "cell_type": "markdown",
   "id": "04a1d2fa-cfbf-494f-ba52-4f83b975f3c8",
   "metadata": {
    "kernel": "R"
   },
   "source": [
    "## Calculate the average mean TsTv of all chromosomes within each sample"
   ]
  },
  {
   "cell_type": "code",
   "execution_count": 71,
   "id": "a4613b5f-7397-4a1c-88cc-a386970903fd",
   "metadata": {
    "kernel": "R"
   },
   "outputs": [
    {
     "data": {
      "text/html": [
       "3.81737848938862"
      ],
      "text/latex": [
       "3.81737848938862"
      ],
      "text/markdown": [
       "3.81737848938862"
      ],
      "text/plain": [
       "[1] 3.817378"
      ]
     },
     "metadata": {},
     "output_type": "display_data"
    },
    {
     "data": {
      "text/html": [
       "<strong>png:</strong> 2"
      ],
      "text/latex": [
       "\\textbf{png:} 2"
      ],
      "text/markdown": [
       "**png:** 2"
      ],
      "text/plain": [
       "png \n",
       "  2 "
      ]
     },
     "metadata": {},
     "output_type": "display_data"
    },
    {
     "data": {
      "image/png": "[encoded data removed]",
      "text/plain": [
       "plot without title"
      ]
     },
     "metadata": {
      "image/png": {
       "height": 420,
       "width": 420
      }
     },
     "output_type": "display_data"
    }
   ],
   "source": [
    "datano<-data\n",
    "datano[is.infinite(as.matrix(data))]<-NA\n",
    "datano[data==0]<-NA\n",
    "ave<-rowMeans(datano,na.rm=TRUE)\n",
    "Ave<-data.frame(sample=psc$sample,AveTsTv=ave)\n",
    "#sum(Ave==0)\n",
    "#sum(is.infinite(as.matrix(Ave)))\n",
    "#sum(is.na(Ave))\n",
    "#sum(Ave$AveTsTv<2.8)\n",
    "mean(Ave$AveTsTv)\n",
    "plot(Ave$AveTsTv,pch=16,xlab=\"sample\",ylab=\"Mean TsTv\")\n",
    "png(\"ukb23156.biallelic.merged.ignored.mean.tstv.scatter.png\",width = 1000, height = 1000)\n",
    "plot(Ave$AveTsTv,pch=16,xlab=\"sample\",ylab=\"Mean TsTv\")\n",
    "dev.off()"
   ]
  },
  {
   "cell_type": "markdown",
   "id": "0b025b3d-78e3-4dc7-bc13-f62f19e881f8",
   "metadata": {
    "kernel": "R"
   },
   "source": [
    "## Calculate the average TsTv of all samples within each chromosome"
   ]
  },
  {
   "cell_type": "code",
   "execution_count": 3,
   "id": "2dfe9dcd-4322-4a3b-85f7-92bd27262e75",
   "metadata": {
    "kernel": "R"
   },
   "outputs": [],
   "source": [
    "datano<-data\n",
    "datano[is.infinite(as.matrix(data))]<-NA\n",
    "datano[data==0]<-NA"
   ]
  },
  {
   "cell_type": "code",
   "execution_count": 21,
   "id": "4246d053-5323-4203-9581-1a8ae31648aa",
   "metadata": {
    "kernel": "R"
   },
   "outputs": [],
   "source": [
    "nam<-as.data.frame(names(datano))\n",
    "namsp<-c()\n",
    "for(i in 1:nrow(nam)){\n",
    "    namsp<-rbind(namsp,unlist(strsplit(nam[i,1],\"_\")))\n",
    "}\n",
    "nam<-cbind(nam,namsp)\n",
    "colnames(nam)<-c(\"full\",\"chr\",\"block\")"
   ]
  },
  {
   "cell_type": "code",
   "execution_count": 66,
   "id": "3aa41cd8-1146-4742-ab73-2475c273fa9d",
   "metadata": {
    "kernel": "R"
   },
   "outputs": [],
   "source": [
    "avetstv<-c()\n",
    "for (i in 1:22){\n",
    "    lis<-which(nam$chr==paste0(\"c\",i))\n",
    "    avetstv[i]<-mean(as.matrix(datano[,lis]),na.rm=TRUE)\n",
    "}"
   ]
  },
  {
   "cell_type": "code",
   "execution_count": 75,
   "id": "c7519d20-a5e6-405a-aa82-266bde44a5bf",
   "metadata": {
    "kernel": "R"
   },
   "outputs": [
    {
     "data": {
      "image/png": "[encoded data removed]",
      "text/plain": [
       "plot without title"
      ]
     },
     "metadata": {
      "image/png": {
       "height": 420,
       "width": 420
      }
     },
     "output_type": "display_data"
    }
   ],
   "source": [
    "plot(avetstv,xlab=\"chromosome\",ylab=\"Average TsTv\",pch=19)"
   ]
  },
  {
   "cell_type": "code",
   "execution_count": 76,
   "id": "2c3af649-f47a-4741-85c8-04da3bc61cc4",
   "metadata": {
    "kernel": "R"
   },
   "outputs": [
    {
     "data": {
      "text/html": [
       "<strong>png:</strong> 2"
      ],
      "text/latex": [
       "\\textbf{png:} 2"
      ],
      "text/markdown": [
       "**png:** 2"
      ],
      "text/plain": [
       "png \n",
       "  2 "
      ]
     },
     "metadata": {},
     "output_type": "display_data"
    }
   ],
   "source": [
    "png(\"ukb23156.biallelic.merged.ignored.mean.tstv.scatter.withinchr.png\",width = 1000, height = 1000)\n",
    "plot(avetstv,xlab=\"chromosome\",ylab=\"Average TsTv\",pch=19)\n",
    "dev.off()"
   ]
  },
  {
   "cell_type": "code",
   "execution_count": null,
   "id": "c67cb33a-fe52-4cb0-8920-03ecfb77df4f",
   "metadata": {
    "kernel": "R"
   },
   "outputs": [],
   "source": []
  },
  {
   "cell_type": "code",
   "execution_count": 77,
   "id": "d0f89d35-a855-4c3e-81ca-1a6112ddae9e",
   "metadata": {
    "kernel": "R"
   },
   "outputs": [],
   "source": [
    "data<-fread(\"~/UKBiobank/vcf/ukb23156.biallelic.merged.tstv.all1alt.csv\")\n",
    "class(data)<-'data.frame'"
   ]
  },
  {
   "cell_type": "code",
   "execution_count": 108,
   "id": "a0c29a29-81e7-40cc-9053-b8d3a722a933",
   "metadata": {
    "kernel": "R"
   },
   "outputs": [
    {
     "name": "stdout",
     "output_type": "stream",
     "text": [
      "\"c1\", \"c2\", \"c3\", \"c4\", \"c5\", \"c6\", \"c7\", \"c8\", \"c9\", \"c10\", \"c11\", \"c12\", \"c13\", \"c14\", \"c15\", \"c16\", \"c17\", \"c18\", \"c19\", \"c20\", \"c21\", \"c22\","
     ]
    }
   ],
   "source": [
    "lis<-c()\n",
    "for (i in 1:22){\n",
    "    lis<-c(lis,paste0(\"\\\"\",\"c\",i,\"\\\"\",\",\"))\n",
    "}\n",
    "cat(lis)"
   ]
  },
  {
   "cell_type": "code",
   "execution_count": 115,
   "id": "295fdc20-e24e-48c9-989d-685b797d0ec7",
   "metadata": {
    "kernel": "R"
   },
   "outputs": [],
   "source": [
    "order<-c(\n",
    "\"c1\", \"c2\", \"c3\", \"c4\", \"c5\", \"c6\", \"c7\", \"c8\", \"c9\", \"c10\", \"c11\", \"c12\", \"c13\", \"c14\", \"c15\", \"c16\", \"c17\", \"c18\", \"c19\", \"c20\", \"c21\", \"c22\")\n",
    "data$chr<-factor(data$chr,levels=order)"
   ]
  },
  {
   "cell_type": "code",
   "execution_count": 124,
   "id": "a1b931c4-6d8a-48be-8347-3eebc0099050",
   "metadata": {
    "kernel": "R"
   },
   "outputs": [
    {
     "data": {
      "image/png": "[encoded data removed]",
      "text/plain": [
       "plot without title"
      ]
     },
     "metadata": {
      "image/png": {
       "height": 420,
       "width": 420
      }
     },
     "output_type": "display_data"
    }
   ],
   "source": [
    "library(ggplot2)\n",
    "p <- ggplot(data, aes(x=chr, y=tstvall)) +  \n",
    "    geom_boxplot()+\n",
    "    theme(text = element_text(size=14))\n",
    "p\n"
   ]
  },
  {
   "cell_type": "code",
   "execution_count": 127,
   "id": "0e5b36cb-a12b-4550-ac05-475b8bcefd61",
   "metadata": {
    "kernel": "R"
   },
   "outputs": [
    {
     "data": {
      "text/html": [
       "<strong>png:</strong> 2"
      ],
      "text/latex": [
       "\\textbf{png:} 2"
      ],
      "text/markdown": [
       "**png:** 2"
      ],
      "text/plain": [
       "png \n",
       "  2 "
      ]
     },
     "metadata": {},
     "output_type": "display_data"
    }
   ],
   "source": [
    "png(\"ukb23156.biallelic.merged.ignored.mean.tstv.boxplot.withinchr.png\",width = 1000, height = 1000)\n",
    "ggplot(data[], aes(x=chr, y=tstvall)) +  \n",
    "    geom_boxplot()+\n",
    "    theme(text = element_text(size=20))\n",
    "dev.off()"
   ]
  },
  {
   "cell_type": "code",
   "execution_count": null,
   "id": "45abb9c5-e73d-47df-bec1-08567cfd4f8f",
   "metadata": {
    "kernel": "R"
   },
   "outputs": [],
   "source": []
  }
 ],
 "metadata": {
  "kernelspec": {
   "display_name": "SoS",
   "language": "sos",
   "name": "sos"
  },
  "language_info": {
   "codemirror_mode": "sos",
   "file_extension": ".sos",
   "mimetype": "text/x-sos",
   "name": "sos",
   "nbconvert_exporter": "sos_notebook.converter.SoS_Exporter",
   "pygments_lexer": "sos"
  },
  "sos": {
   "kernels": [
    [
     "R",
     "ir",
     "R",
     "#DCDCDA",
     "r"
    ]
   ],
   "version": "0.22.3"
  }
 },
 "nbformat": 4,
 "nbformat_minor": 5
}
